{
 "cells": [
  {
   "cell_type": "code",
   "execution_count": 27,
   "metadata": {},
   "outputs": [
    {
     "name": "stdout",
     "output_type": "stream",
     "text": [
      "['A', 'B', 'C', 'D', 'E']\n",
      "[1, 0, 1, 0, 1]\n",
      "[0, 1, 1, 1, 1]\n",
      "[1, 1, 1, 0, 1]\n",
      "[1, 0, 0, 0, 0]\n",
      "[0, 1, 1, 1, 1]\n"
     ]
    }
   ],
   "source": [
    "#Jaime Arturo Renteria Tamez 173876 001 409\n",
    "import numpy as np\n",
    "import math as mt\n",
    "import copy as cp\n",
    "\n",
    "#Use los datos en forma horizontal\n",
    "l0=[\"A\", \"B\", \"C\" , \"D\", \"E\"]\n",
    "\n",
    "a=[1,0,1,0,1] #a\n",
    "b=[0,1,1,1,1] #b\n",
    "c=[1,1,1,0,1] #c\n",
    "d=[1,0,0,0,0] #d\n",
    "e=[0,1,1,1,1] #e\n",
    "\n",
    "print(l0)\n",
    "print(a)\n",
    "print(b)\n",
    "print(c)\n",
    "print(d)\n",
    "print(e)"
   ]
  },
  {
   "cell_type": "code",
   "execution_count": 135,
   "metadata": {},
   "outputs": [
    {
     "name": "stdout",
     "output_type": "stream",
     "text": [
      "veces que se repite a= 3 n= 5 lumbral= None\n",
      "veces que se repite b= 4 n= 5 lumbral= 0.8\n",
      "veces que se repite c= 4 n= 5 lumbral= 0.8\n",
      "veces que se repite d= 1 n= 5 lumbral= None\n",
      "veces que se repite e= 4 n= 5 lumbral= 0.8\n",
      "El primer nivel es= ['B', 'C', 'E']\n"
     ]
    }
   ],
   "source": [
    "def longitud_lista(n):\n",
    "    n=len(n)\n",
    "    return n\n",
    "\n",
    "def cantidad_lista(n):\n",
    "    aux=0 \n",
    "    for i in n:\n",
    "        if i==1:\n",
    "            aux=aux+1\n",
    "    return (aux)\n",
    "\n",
    "def comparar_umbral(cantidad,longitud):\n",
    "    lumbral=0\n",
    "    lumbral=cantidad/longitud\n",
    "    if lumbral>0.6:\n",
    "        lumbral=lumbral\n",
    "        return(lumbral)\n",
    "\n",
    "n=0   \n",
    "aux=0\n",
    "aux2=[]\n",
    "lumbral=0\n",
    "lumbral2=0.6\n",
    "\n",
    "n=longitud_lista(a)\n",
    "aux=cantidad_lista(a)\n",
    "lumbral=comparar_umbral(aux,n)\n",
    "if lumbral!=None:\n",
    "    aux2.append(l0[0])\n",
    "print('veces que se repite a=',aux,'n=',n,'lumbral=',lumbral)\n",
    "\n",
    "n=longitud_lista(b)\n",
    "aux=cantidad_lista(b)\n",
    "lumbral=comparar_umbral(aux,n)\n",
    "if lumbral!=None:\n",
    "    aux2.append(l0[1])\n",
    "print('veces que se repite b=',aux,'n=',n,'lumbral=',lumbral)\n",
    "\n",
    "n=longitud_lista(c)\n",
    "aux=cantidad_lista(c)\n",
    "lumbral=comparar_umbral(aux,n)\n",
    "if lumbral!=None:\n",
    "    aux2.append(l0[2])\n",
    "print('veces que se repite c=',aux,'n=',n,'lumbral=',lumbral)\n",
    "\n",
    "n=longitud_lista(d)\n",
    "aux=cantidad_lista(d)\n",
    "lumbral=comparar_umbral(aux,n)\n",
    "if lumbral!=None:\n",
    "    aux2.append(l0[3])\n",
    "print('veces que se repite d=',aux,'n=',n,'lumbral=',lumbral)\n",
    "\n",
    "n=longitud_lista(e)\n",
    "aux=cantidad_lista(e)\n",
    "lumbral=comparar_umbral(aux,n)\n",
    "if lumbral!=None:\n",
    "    aux2.append(l0[4])\n",
    "print('veces que se repite e=',aux,'n=',n,'lumbral=',lumbral)\n",
    "\n",
    "\n",
    "print('El primer nivel es=',aux2)"
   ]
  }
 ],
 "metadata": {
  "kernelspec": {
   "display_name": "Python 3",
   "language": "python",
   "name": "python3"
  },
  "language_info": {
   "codemirror_mode": {
    "name": "ipython",
    "version": 3
   },
   "file_extension": ".py",
   "mimetype": "text/x-python",
   "name": "python",
   "nbconvert_exporter": "python",
   "pygments_lexer": "ipython3",
   "version": "3.7.4"
  }
 },
 "nbformat": 4,
 "nbformat_minor": 2
}
