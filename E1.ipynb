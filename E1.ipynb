{
 "cells": [
  {
   "cell_type": "markdown",
   "metadata": {},
   "source": [
    "# Examen 2: Ejercicios de Python.\n"
   ]
  },
  {
   "cell_type": "markdown",
   "metadata": {},
   "source": [
    "Al momento de responder las preguntas, cerciorense de que les imprima el resultado. "
   ]
  },
  {
   "cell_type": "markdown",
   "metadata": {},
   "source": [
    "### 1.- Dando lista A = [3, 2, 7, 4, 12, 9, 6, 1] desarrolla los siguientes 3 ejercicios.\n",
    "\n",
    "- Imprime la sumatoria de todos los elementos.\n",
    "- Ordenalos de mayor a menor.\n",
    "- Haz una nueva lista pero solo con sus elementos pares."
   ]
  },
  {
   "cell_type": "code",
   "execution_count": 2,
   "metadata": {},
   "outputs": [
    {
     "name": "stdout",
     "output_type": "stream",
     "text": [
      "44\n"
     ]
    }
   ],
   "source": [
    "#(Puntos 5)\n",
    "# Imprime la sumatoria de todos los elementos en a = [3, 2, 7, 4, 12, 9, 6, 1].\n",
    "A = [3, 2, 7, 4, 12, 9, 6, 1] \n",
    "suma=sum(A)\n",
    "print(suma)"
   ]
  },
  {
   "cell_type": "code",
   "execution_count": 6,
   "metadata": {},
   "outputs": [
    {
     "name": "stdout",
     "output_type": "stream",
     "text": [
      "[1, 2, 3, 4, 6, 7, 9, 12]\n"
     ]
    }
   ],
   "source": [
    "#(Puntos 10)\n",
    "# Ordenalos de mayor a menor\n",
    "A.sort()\n",
    "print(A)"
   ]
  },
  {
   "cell_type": "code",
   "execution_count": 8,
   "metadata": {},
   "outputs": [
    {
     "name": "stdout",
     "output_type": "stream",
     "text": [
      "[2, 4, 6, 12]\n"
     ]
    }
   ],
   "source": [
    "#(Puntos 10)\n",
    "# Haz una nueva lista pero solo con sus elementos pares\n",
    "B=[]\n",
    "for v in A:\n",
    "    if (v % 2==0):\n",
    "        B.append(v)\n",
    "print(B)"
   ]
  },
  {
   "cell_type": "markdown",
   "metadata": {},
   "source": [
    "### 2.- Dale valor a dos variables y realiza 5 funciones que regresen como resultado diferentes operaciones aritmeticas (suma, resta, etc...). "
   ]
  },
  {
   "cell_type": "code",
   "execution_count": 13,
   "metadata": {},
   "outputs": [
    {
     "name": "stdout",
     "output_type": "stream",
     "text": [
      "numeros:\n",
      "10 0 2\n",
      "suma: a y c\n",
      "12\n",
      "resta: a y c\n",
      "8\n",
      "division: a y b, a y c\n",
      "Operacion Invalida\n",
      "5.0\n",
      "multiplicacion: a y c\n",
      "20\n",
      "modulo: a y c\n",
      "0\n"
     ]
    }
   ],
   "source": [
    "#(Puntos 15)\n",
    "\n",
    "#Asumimos que la posicion de los numeros son sus posiciones en las operaciones\n",
    "def suma(a,b):\n",
    "    return (a+b)\n",
    "def resta(a,b):\n",
    "    return (a-b)\n",
    "def division(a,b):\n",
    "    if(b==0):\n",
    "        return (\"Operacion Invalida\") #Podriamos regresar un None, pero es mejor dar retroalimentacion sobre la operacion\n",
    "    else:\n",
    "        return(a/b)\n",
    "def multiplicacion(a,b):\n",
    "    return(a*b)\n",
    "def modulo(a,b):\n",
    "    return (a%b)\n",
    "\n",
    "a=10\n",
    "b=0\n",
    "c=2\n",
    "print(\"numeros:\")\n",
    "print(a,b,c)\n",
    "print(\"suma: a y c\")\n",
    "print(suma(a,c))\n",
    "print(\"resta: a y c\")\n",
    "print(resta(a,c))\n",
    "print(\"division: a y b, a y c\")\n",
    "print(division(a,b))\n",
    "print(division(a,c))\n",
    "print(\"multiplicacion: a y c\")\n",
    "print(multiplicacion(a,c))\n",
    "print(\"modulo: a y c\")\n",
    "print(modulo(a,c))"
   ]
  },
  {
   "cell_type": "markdown",
   "metadata": {},
   "source": [
    "### 3.- Dada la lista A = [3, 2, 7, 4, 12, 9, 6, 1] y lista B = [13, 16, 21, 34, 18, 17, 11, 10] crea una lista nueva que contenga solo los datos impares de ambas listas."
   ]
  },
  {
   "cell_type": "code",
   "execution_count": 56,
   "metadata": {},
   "outputs": [
    {
     "name": "stdout",
     "output_type": "stream",
     "text": [
      "[3, 7, 9, 1, 13, 21, 17, 11]\n",
      "[3, 2, 7, 4, 12, 9, 6, 1, 13, 16, 21, 34, 18, 17, 11, 10]\n"
     ]
    }
   ],
   "source": [
    "#(Puntos 15)\n",
    "#Cambiando A y B\n",
    "A = [3, 2, 7, 4, 12, 9, 6, 1]\n",
    "B = [13, 16, 21, 34, 18, 17, 11, 10]\n",
    "C=[]\n",
    "A.extend(B)\n",
    "for v in (A):\n",
    "    if (v%2==1):\n",
    "        C.append(v)\n",
    "print(C)\n",
    "#print(A)"
   ]
  },
  {
   "cell_type": "code",
   "execution_count": 20,
   "metadata": {},
   "outputs": [
    {
     "name": "stdout",
     "output_type": "stream",
     "text": [
      "[3, 7, 9, 1, 13, 21, 17, 11]\n"
     ]
    }
   ],
   "source": [
    "#Sin cambiar A y B\n",
    "A = [3, 2, 7, 4, 12, 9, 6, 1]\n",
    "B = [13, 16, 21, 34, 18, 17, 11, 10]\n",
    "C=[]\n",
    "\n",
    "def Impares(A,C):\n",
    "    for v in A:\n",
    "        if (v%2==1):\n",
    "            C.append(v)\n",
    "        \n",
    "Impares(A,C)\n",
    "Impares(B,C)\n",
    "print(C)"
   ]
  },
  {
   "cell_type": "markdown",
   "metadata": {},
   "source": [
    "### 4.- Dadas las variables W = 11, X = 17, Y = 32, Z = 65, crea una función que clasifique por grupos de edad (niño, adolecente, adulto, adulto mayor. (Utiliza el elif)"
   ]
  },
  {
   "cell_type": "code",
   "execution_count": 67,
   "metadata": {},
   "outputs": [
    {
     "name": "stdout",
     "output_type": "stream",
     "text": [
      "Tu edad es: 7\n",
      "Eres niño\n",
      "Tu edad es: 12\n",
      "Eres adolecente\n",
      "Tu edad es: 32\n",
      "Eres adulto joven\n",
      "Tu edad es: 33\n",
      "Eres adulto\n",
      "Tu edad es: 72\n",
      "Eres adulto mayor\n"
     ]
    }
   ],
   "source": [
    "#(Puntos 15)\n",
    "#Usando las variables como los limites de edad\n",
    "def rango_edad(edad):\n",
    "    W = 11\n",
    "    X = 17\n",
    "    Y = 32\n",
    "    Z = 65\n",
    "    if (edad<=W):\n",
    "        print(\"Tu edad es:\",end=\" \" )\n",
    "        print(edad)\n",
    "        print(\"Eres niño\")\n",
    "    elif (edad<=X):\n",
    "        print(\"Tu edad es:\",end=\" \" )\n",
    "        print(edad)\n",
    "        print(\"Eres adolecente\")\n",
    "    elif (edad<=Y):\n",
    "        print(\"Tu edad es:\",end=\" \" )\n",
    "        print(edad)\n",
    "        print(\"Eres adulto joven\")\n",
    "    elif (edad<Z):\n",
    "        print(\"Tu edad es:\",end=\" \" )\n",
    "        print(edad)\n",
    "        print(\"Eres adulto\")\n",
    "    elif (edad>=Z):\n",
    "        print(\"Tu edad es:\",end=\" \" )\n",
    "        print(edad)\n",
    "        print(\"Eres adulto mayor\")\n",
    "\n",
    "edades=[7, 12, 32, 33,72]\n",
    "for v in edades:\n",
    "    rango_edad(v)"
   ]
  },
  {
   "cell_type": "code",
   "execution_count": 69,
   "metadata": {},
   "outputs": [
    {
     "name": "stdout",
     "output_type": "stream",
     "text": [
      "Tu edad es: 11\n",
      "Eres niño\n",
      "Tu edad es: 17\n",
      "Eres adolecente\n",
      "Tu edad es: 32\n",
      "Eres adulto joven\n",
      "Tu edad es: 65\n",
      "Eres adulto mayor\n"
     ]
    }
   ],
   "source": [
    "#Usando las variables como las que debemos ordenar, y valores de rangos de edad de wikipedia\n",
    "#https://es.wikipedia.org/wiki/Ni%C3%B1o\n",
    "\n",
    "edades=[]\n",
    "W = 11\n",
    "X = 17\n",
    "Y = 32\n",
    "Z = 65\n",
    "edades.append(W)\n",
    "edades.append(X)\n",
    "edades.append(Y)\n",
    "edades.append(Z)\n",
    "\n",
    "def rango_edad(edad):\n",
    "    \n",
    "    if (edad<=13):\n",
    "        print(\"Tu edad es:\",end=\" \" )\n",
    "        print(edad)\n",
    "        print(\"Eres niño\")\n",
    "    elif (edad<=18):\n",
    "        print(\"Tu edad es:\",end=\" \" )\n",
    "        print(edad)\n",
    "        print(\"Eres adolecente\")\n",
    "    elif (edad<=40):\n",
    "        print(\"Tu edad es:\",end=\" \" )\n",
    "        print(edad)\n",
    "        print(\"Eres adulto joven\")\n",
    "    elif (edad<65):\n",
    "        print(\"Tu edad es:\",end=\" \" )\n",
    "        print(edad)\n",
    "        print(\"Eres adulto mayor\")\n",
    "    elif (edad>=65):\n",
    "        print(\"Tu edad es:\",end=\" \" )\n",
    "        print(edad)\n",
    "        print(\"Eres adulto mayor\")\n",
    "\n",
    "for v in edades:\n",
    "    rango_edad(v)"
   ]
  },
  {
   "cell_type": "markdown",
   "metadata": {},
   "source": [
    "### 5.- Utilizando cualquiera de las condicionales (for, if, while...) imprime los siguientes patrones tal y como aparecen en el comentario, respetando los espacios y los saltos de renglon.\n"
   ]
  },
  {
   "cell_type": "code",
   "execution_count": 48,
   "metadata": {},
   "outputs": [
    {
     "name": "stdout",
     "output_type": "stream",
     "text": [
      "1 \n",
      "2 2 \n",
      "3 3 3 \n",
      "4 4 4 4 \n",
      "5 5 5 5 5 \n"
     ]
    }
   ],
   "source": [
    "#(Puntos 10)\n",
    "#1 \n",
    "#2 2\n",
    "#3 3 3\n",
    "#4 4 4 4\n",
    "#5 5 5 5 5\n",
    "\n",
    "def repetir(n,c=1):\n",
    "    if c <= n:\n",
    "        m=str(c)\n",
    "        m=m+(' ')\n",
    "        print(m * c)\n",
    "        c=c+1\n",
    "        repetir(n,c)\n",
    "\n",
    "repetir(5)"
   ]
  },
  {
   "cell_type": "code",
   "execution_count": 49,
   "metadata": {},
   "outputs": [
    {
     "name": "stdout",
     "output_type": "stream",
     "text": [
      "5 4 3 2 1\n",
      "4 3 2 1\n",
      "3 2 1\n",
      "2 1\n",
      "1\n"
     ]
    }
   ],
   "source": [
    "#(Puntos 15)\n",
    "#5 4 3 2 1 \n",
    "#4 3 2 1\n",
    "#3 2 1 \n",
    "#2 1\n",
    "#1\n",
    "def decreciente(n):\n",
    "    A=[]\n",
    "    for i in range(1,n+1):\n",
    "        A.append(i)\n",
    "    A.sort(reverse=True)\n",
    "    #print(A)\n",
    "    while(len(A)>0):\n",
    "        for i in A:\n",
    "            if(i==1):\n",
    "                print(i)\n",
    "            else:\n",
    "                print(i, end =\" \")\n",
    "        A.pop(0)\n",
    "        \n",
    "decreciente(5)           "
   ]
  },
  {
   "cell_type": "markdown",
   "metadata": {},
   "source": [
    "### 6.- Con la lista A = [3, 2, 7, 4, 12, 9, 6, 1] y el uso de condicionales, imprime una nueva lista con cada uno de los elementos de la lista A, al cuadrado."
   ]
  },
  {
   "cell_type": "code",
   "execution_count": 55,
   "metadata": {},
   "outputs": [
    {
     "name": "stdout",
     "output_type": "stream",
     "text": [
      "[9, 4, 49, 16, 144, 81, 36, 1]\n"
     ]
    }
   ],
   "source": [
    "#(Puntos 10)\n",
    "#Cambiando A y usando condicionales\n",
    "A = [3, 2, 7, 4, 12, 9, 6, 1]\n",
    "B=[]\n",
    "\n",
    "def definir_bandera(A):\n",
    "    if(len(A)==0):\n",
    "        return False\n",
    "    else: \n",
    "        return True\n",
    "    \n",
    "bandera=definir_bandera\n",
    "while(bandera(A)):\n",
    "    B.append(A[0]*A[0])\n",
    "    A.pop(0)\n",
    "    bandera=definir_bandera\n",
    "print(B)"
   ]
  },
  {
   "cell_type": "code",
   "execution_count": 54,
   "metadata": {},
   "outputs": [
    {
     "name": "stdout",
     "output_type": "stream",
     "text": [
      "[9, 4, 49, 16, 144, 81, 36, 1]\n",
      "[9, 4, 49, 16, 144, 81, 36, 1]\n"
     ]
    }
   ],
   "source": [
    "#Sin cambiar A\n",
    "A = [3, 2, 7, 4, 12, 9, 6, 1]\n",
    "B=[]\n",
    "for v in A:\n",
    "    B.append(v*v)\n",
    "print(B)\n",
    "\n",
    "#Sin cambiar A y usando condicionales\n",
    "C=[]\n",
    "i=0\n",
    "if i<len(A):\n",
    "    while(i<len(A)):\n",
    "        C.append(A[i]*A[i])\n",
    "        i=i+1\n",
    "else:\n",
    "    print(\"No hay elementos en A\")\n",
    "print(C)"
   ]
  },
  {
   "cell_type": "markdown",
   "metadata": {},
   "source": [
    "## (Extra puntos 5.) \n",
    "\n",
    "Conteste los tres puntos para obtener la totalidad de los puntos."
   ]
  },
  {
   "cell_type": "raw",
   "metadata": {},
   "source": [
    "*Mencione al menos 3 palabras reservadas para el lenguaje de programación de Python.\n",
    "\n",
    "def\n",
    "return\n",
    "for\n",
    "if\n",
    "else"
   ]
  },
  {
   "cell_type": "raw",
   "metadata": {},
   "source": [
    "*Describa la diferencia principal entre las listas y las tuplas en Python.\n",
    "\n",
    "\n",
    "las listas son objeto que podemos alterar luego de su creacion mientras que las tuplas no\n",
    "    ejemplo:\n",
    "(si descomentamos lo comentado veremos que marca error)\n",
    "   \n",
    "Si es posible agregar tuplas a las tuplas a travez de \"+\" (concatenacion de tuplas) pero no podemos eliminar u ordernar una vez esten dentro. Entre otras cosas podremos notar que las tuplas no tienen funciones como .sort , .sorted o .append mientras que las listas si"
   ]
  },
  {
   "cell_type": "code",
   "execution_count": 65,
   "metadata": {},
   "outputs": [
    {
     "name": "stdout",
     "output_type": "stream",
     "text": [
      "[1, 2]\n",
      "[1, 2, 3, 4]\n",
      "(1, 2)\n",
      "(1, 2, 3, 4)\n"
     ]
    }
   ],
   "source": [
    "A=[1,2]\n",
    "print(A)\n",
    "A.append(3)\n",
    "A.append(4)\n",
    "print(A)\n",
    "T=(1,2)\n",
    "#T.append(3)\n",
    "#T=T+(3)\n",
    "print(T)\n",
    "T=T+(3,4)\n",
    "print(T)\n",
    "#T=T-(3,4)\n",
    "#print(T)"
   ]
  },
  {
   "cell_type": "raw",
   "metadata": {},
   "source": [
    "*Describa para que sirve el condicional ELIF.\n",
    "\n",
    "Elif nos ayuda a agregar aun mas casos a un condicional if, es decir nos sirve para lo mismo que una estructura switch en c/c++. Dado que acepta mas rango de condiciones que un switch es mas facil amplio su rango de uso.\n",
    "\n",
    "if (condicion):      #si:\n",
    "    esto\n",
    "elsif (condicion 2): #sino, si:\n",
    "    esto\n",
    "elsif (condicion 3: # sino, si:\n",
    "    esto\n",
    " .\n",
    " .\n",
    " .\n",
    "elsif(condicion 'n'): # sino, si:\n",
    "    esto\n",
    "else:                 #sino:\n",
    "    esto"
   ]
  }
 ],
 "metadata": {
  "kernelspec": {
   "display_name": "Python 3",
   "language": "python",
   "name": "python3"
  },
  "language_info": {
   "codemirror_mode": {
    "name": "ipython",
    "version": 3
   },
   "file_extension": ".py",
   "mimetype": "text/x-python",
   "name": "python",
   "nbconvert_exporter": "python",
   "pygments_lexer": "ipython3",
   "version": "3.7.4"
  }
 },
 "nbformat": 4,
 "nbformat_minor": 2
}
