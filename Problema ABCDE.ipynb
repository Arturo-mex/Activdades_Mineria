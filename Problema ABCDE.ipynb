{
 "cells": [
  {
   "cell_type": "code",
   "execution_count": 100,
   "metadata": {},
   "outputs": [
    {
     "name": "stdout",
     "output_type": "stream",
     "text": [
      "['A', 'B', 'C', 'D', 'E']\n",
      "[1, 0, 1, 0, 1]\n",
      "[0, 1, 1, 1, 1]\n",
      "[1, 1, 1, 0, 1]\n",
      "[1, 0, 0, 0, 0]\n",
      "[0, 1, 1, 1, 1]\n"
     ]
    }
   ],
   "source": [
    "import numpy as np\n",
    "import math as mt\n",
    "l0=[\"A\", \"B\", \"C\" , \"D\", \"E\"]\n",
    "\n",
    "a=[1,0,1,0,1] #a\n",
    "b=[0,1,1,1,1] #b\n",
    "c=[1,1,1,0,1] #c\n",
    "d=[1,0,0,0,0] #d\n",
    "e=[0,1,1,1,1] #e\n",
    "\n",
    "print(l0)\n",
    "print(a)\n",
    "print(b)\n",
    "print(c)\n",
    "print(d)\n",
    "print(e)"
   ]
  },
  {
   "cell_type": "code",
   "execution_count": 113,
   "metadata": {},
   "outputs": [
    {
     "name": "stdout",
     "output_type": "stream",
     "text": [
      "veces que se repite a= 3 n= 5 lumbral= None\n",
      "veces que se repite b= 4 n= 5 lumbral= 0.8\n",
      "veces que se repite c= 4 n= 5 lumbral= 0.8\n",
      "veces que se repite d= 1 n= 5 lumbral= None\n",
      "veces que se repite e= 4 n= 5 lumbral= 0.8\n"
     ]
    }
   ],
   "source": [
    "def longitud_lista(n):\n",
    "    n=len(n)\n",
    "    return n\n",
    "\n",
    "def cantidad_lista(n):\n",
    "    aux=0 \n",
    "    for i in n:\n",
    "        if i==1:\n",
    "            aux=aux+1\n",
    "    return (aux)\n",
    "\n",
    "def comparar_umbral(cantidad,longitud):\n",
    "    aux=0 \n",
    "    aux=cantidad/longitud\n",
    "    if aux>0.6:\n",
    "        aux=aux\n",
    "        return(aux)\n",
    "    \n",
    "n=0   \n",
    "aux=0\n",
    "lumbral=0.5\n",
    "lumbral2=0\n",
    "\n",
    "n=longitud_lista(a)\n",
    "aux=cantidad_lista(a)\n",
    "lumbral2=comparar_umbral(aux,n)\n",
    "print('veces que se repite a=',aux,'n=',n,'lumbral=',lumbral2)\n",
    "n=longitud_lista(b)\n",
    "aux=cantidad_lista(b)\n",
    "lumbral2=comparar_umbral(aux,n)\n",
    "print('veces que se repite b=',aux,'n=',n,'lumbral=',lumbral2)\n",
    "n=longitud_lista(c)\n",
    "aux=cantidad_lista(c)\n",
    "lumbral2=comparar_umbral(aux,n)\n",
    "print('veces que se repite c=',aux,'n=',n,'lumbral=',lumbral2)\n",
    "n=longitud_lista(d)\n",
    "aux=cantidad_lista(d)\n",
    "lumbral2=comparar_umbral(aux,n)\n",
    "print('veces que se repite d=',aux,'n=',n,'lumbral=',lumbral2)\n",
    "n=longitud_lista(e)\n",
    "aux=cantidad_lista(e)\n",
    "lumbral2=comparar_umbral(aux,n)\n",
    "print('veces que se repite e=',aux,'n=',n,'lumbral=',lumbral2)\n"
   ]
  },
  {
   "cell_type": "code",
   "execution_count": null,
   "metadata": {},
   "outputs": [],
   "source": []
  }
 ],
 "metadata": {
  "kernelspec": {
   "display_name": "Python 3",
   "language": "python",
   "name": "python3"
  },
  "language_info": {
   "codemirror_mode": {
    "name": "ipython",
    "version": 3
   },
   "file_extension": ".py",
   "mimetype": "text/x-python",
   "name": "python",
   "nbconvert_exporter": "python",
   "pygments_lexer": "ipython3",
   "version": "3.7.4"
  }
 },
 "nbformat": 4,
 "nbformat_minor": 2
}
